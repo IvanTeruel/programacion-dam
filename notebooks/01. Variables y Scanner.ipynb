{
 "cells": [
  {
   "cell_type": "code",
   "execution_count": 3,
   "id": "fatty-sweet",
   "metadata": {},
   "outputs": [],
   "source": [
    "import java.util.Scanner;\n",
    "Scanner scanner = new Scanner(System.in);"
   ]
  },
  {
   "cell_type": "markdown",
   "id": "printable-trade",
   "metadata": {},
   "source": [
    "# MayorOIgual\n",
    "\n",
    "Implementa en la siguiente celda un programa que:\n",
    "- Pida al usuario un número entero (a) \n",
    "- Pida al usuario otro número entero (b) \n",
    "- Crea una variable que almacena si a es mayor o igual que b \n",
    "- Muestra en pantalla la variable anterior "
   ]
  },
  {
   "cell_type": "code",
   "execution_count": 1,
   "id": "tender-dress",
   "metadata": {
    "scrolled": true
   },
   "outputs": [
    {
     "name": "stdout",
     "output_type": "stream",
     "text": [
      "3\n",
      "2\n",
      "3es mayor que2\n"
     ]
    }
   ],
   "source": [
    "import java.util.Scanner;\n",
    "Scanner scanner = new Scanner(System.in);\n",
    "int a=scanner.nextInt();\n",
    "scanner.nextLine();\n",
    "int b=scanner.nextInt();\n",
    "scanner.nextLine();\n",
    "if (a > b ){\n",
    "    System.out.println (a + \"es mayor que\" + b);\n",
    "} else if (a < b ){\n",
    "    System.out.println (a + \"es menor que\" + b);\n",
    "}"
   ]
  },
  {
   "cell_type": "markdown",
   "id": "satisfactory-consensus",
   "metadata": {},
   "source": [
    "# Or\n",
    "\n",
    "Implementa en la siguiente celda un programa que:\n",
    "- Pida al usuario una variable a de tipo booleana (scanner.nextBoolean()) \n",
    "- Pida al usuario otra variable b de tipo booleana \n",
    "- Imprime en pantalla si es true a o b "
   ]
  },
  {
   "cell_type": "code",
   "execution_count": 5,
   "id": "polyphonic-permit",
   "metadata": {},
   "outputs": [
    {
     "name": "stdout",
     "output_type": "stream",
     "text": [
      "false\n",
      "true\n",
      " true \n"
     ]
    }
   ],
   "source": [
    "boolean a=scanner.nextBoolean();\n",
    "scanner.nextLine();\n",
    "boolean b=scanner.nextBoolean();\n",
    "scanner.nextLine();\n",
    "if (a || b) {\n",
    "    System.out.println ( \" true \" );\n",
    "} else {\n",
    "    System.out.println ( \" false \" );\n",
    "}"
   ]
  },
  {
   "cell_type": "markdown",
   "id": "civilian-walter",
   "metadata": {},
   "source": [
    "# And\n",
    "\n",
    "Implementa en la siguiente celda un programa que:\n",
    "- Pida al usuario una variable a de tipo booleana (scanner.nextBoolean()) \n",
    "- Pida al usuario otra variable b de tipo booleana \n",
    "- Imprime en pantalla si es true a y b  "
   ]
  },
  {
   "cell_type": "code",
   "execution_count": 6,
   "id": "banned-intention",
   "metadata": {},
   "outputs": [
    {
     "name": "stdout",
     "output_type": "stream",
     "text": [
      "true\n",
      "true\n",
      " true \n"
     ]
    }
   ],
   "source": [
    "boolean a=scanner.nextBoolean();\n",
    "scanner.nextLine();\n",
    "boolean b=scanner.nextBoolean();\n",
    "scanner.nextLine();\n",
    "if (a && b) {\n",
    "    System.out.println ( \" true \" );\n",
    "} else {\n",
    "    System.out.println ( \" false \" );\n",
    "}"
   ]
  },
  {
   "cell_type": "markdown",
   "id": "dominican-aquarium",
   "metadata": {},
   "source": [
    "# HolaMundoScanner \n",
    "\n",
    "Implementa en la siguiente celda un programa que:\n",
    "\n",
    "- Pida un texto de una línea y lo guarde en una variable “saludo” \n",
    "- Pida un texto de una línea y lo guarde en una variable “despedida” \n",
    "- Muestra en pantalla el saludo y la despedida en una misma línea \n",
    "  - Saludo= “Hola” \n",
    "  - Despedida = “Adios” \n",
    "  - Mensaje en pantalla: Hola. Adios "
   ]
  },
  {
   "cell_type": "code",
   "execution_count": 7,
   "id": "loaded-assist",
   "metadata": {},
   "outputs": [
    {
     "name": "stdout",
     "output_type": "stream",
     "text": [
      "Hola\n",
      "Adios\n",
      "Hola Adios\n"
     ]
    }
   ],
   "source": [
    "String saludo=scanner.nextLine();\n",
    "String despedida=scanner.nextLine();\n",
    "System.out.println (saludo + \" \" + despedida)"
   ]
  },
  {
   "cell_type": "code",
   "execution_count": null,
   "id": "imperial-elizabeth",
   "metadata": {},
   "outputs": [],
   "source": []
  }
 ],
 "metadata": {
  "kernelspec": {
   "display_name": "Java",
   "language": "java",
   "name": "java"
  },
  "language_info": {
   "codemirror_mode": "java",
   "file_extension": ".jshell",
   "mimetype": "text/x-java-source",
   "name": "Java",
   "pygments_lexer": "java",
   "version": "11.0.10+9-Ubuntu-0ubuntu1.18.04"
  }
 },
 "nbformat": 4,
 "nbformat_minor": 5
}
