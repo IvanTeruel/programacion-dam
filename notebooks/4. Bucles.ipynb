{
 "cells": [
  {
   "cell_type": "markdown",
   "id": "inner-communications",
   "metadata": {},
   "source": [
    "# Bucles\n",
    "\n",
    "## Bucles for\n",
    "\n",
    "### Ejercicio 1\n",
    "\n",
    "- Pide al usuario un número entero (n) \n",
    "- Pide al usuario un mensaje (message) \n",
    "- Saca por pantalla el mensaje message n veces "
   ]
  },
  {
   "cell_type": "code",
   "execution_count": null,
   "id": "cellular-japan",
   "metadata": {},
   "outputs": [],
   "source": []
  },
  {
   "cell_type": "markdown",
   "id": "historic-annual",
   "metadata": {},
   "source": [
    "### Ejercicio 2\n",
    "\n",
    "Un método que dados un mensaje y un entero (n),saque por pantalla el mensaje message n veces \n",
    "\n",
    "Invoca el método para que muestre el mensaje \"Hola mundo\" cinco veces"
   ]
  },
  {
   "cell_type": "code",
   "execution_count": null,
   "id": "experienced-disney",
   "metadata": {},
   "outputs": [],
   "source": []
  }
 ],
 "metadata": {
  "kernelspec": {
   "display_name": "Java",
   "language": "java",
   "name": "java"
  },
  "language_info": {
   "codemirror_mode": "java",
   "file_extension": ".jshell",
   "mimetype": "text/x-java-source",
   "name": "Java",
   "pygments_lexer": "java",
   "version": "11.0.10+9-Ubuntu-0ubuntu1.18.04"
  }
 },
 "nbformat": 4,
 "nbformat_minor": 5
}
